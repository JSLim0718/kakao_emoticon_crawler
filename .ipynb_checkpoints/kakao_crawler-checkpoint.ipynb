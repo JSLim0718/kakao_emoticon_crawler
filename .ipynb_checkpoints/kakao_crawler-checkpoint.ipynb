{
 "cells": [
  {
   "cell_type": "code",
   "execution_count": 1,
   "id": "362b66e2",
   "metadata": {
    "pycharm": {
     "name": "#%%\n"
    }
   },
   "outputs": [],
   "source": [
    "from selenium import webdriver\n",
    "from selenium.webdriver.common.by import By\n",
    "from selenium.webdriver.common.keys import Keys\n",
    "import time\n",
    "from bs4 import BeautifulSoup"
   ]
  },
  {
   "cell_type": "code",
   "execution_count": 2,
   "id": "c3025b24",
   "metadata": {
    "pycharm": {
     "name": "#%%\n"
    }
   },
   "outputs": [
    {
     "name": "stderr",
     "output_type": "stream",
     "text": [
      "C:\\Users\\sweetk\\AppData\\Local\\Temp\\ipykernel_16708\\4037870321.py:1: DeprecationWarning: executable_path has been deprecated, please pass in a Service object\n",
      "  driver = webdriver.Chrome('./Webdriver/chromedriver') # 크롬드라이버 실행\n"
     ]
    }
   ],
   "source": [
    "driver = webdriver.Chrome('./Webdriver/chromedriver') # 크롬드라이버 실행"
   ]
  },
  {
   "cell_type": "code",
   "execution_count": 3,
   "id": "e82e2ed5",
   "metadata": {
    "pycharm": {
     "name": "#%%\n"
    }
   },
   "outputs": [],
   "source": [
    "driver.get(\"https://e.kakao.com/search\") # 접속할 페이지"
   ]
  },
  {
   "cell_type": "code",
   "execution_count": 4,
   "id": "d63e967c",
   "metadata": {},
   "outputs": [],
   "source": [
    "# selenium 4.3.0 버전 이상에서는 아래 코드 입력\n",
    "search_box = driver.find_element(\"xpath\",'//*[@id=\"tfSearch\"]')"
   ]
  },
  {
   "cell_type": "code",
   "execution_count": 5,
   "id": "49c7413c",
   "metadata": {
    "pycharm": {
     "name": "#%%\n"
    }
   },
   "outputs": [],
   "source": [
    "# selenium 4.3.0 버전 이하에서는 아래 코드 입력\n",
    "# search_box = driver.find_element_by_xpath('//*[@id=\"tfSearch\"]').text # 동적 조작 타게팅(여기서는 검색창)"
   ]
  },
  {
   "cell_type": "code",
   "execution_count": 6,
   "id": "e7f97791",
   "metadata": {
    "pycharm": {
     "name": "#%%\n"
    }
   },
   "outputs": [],
   "source": [
    "import requests\n",
    "import urllib.request\n",
    "import os\n",
    "import glob\n",
    "from PIL import Image\n",
    "import natsort"
   ]
  },
  {
   "cell_type": "code",
   "execution_count": 7,
   "id": "73741541",
   "metadata": {
    "pycharm": {
     "name": "#%%\n"
    },
    "scrolled": true
   },
   "outputs": [
    {
     "name": "stdout",
     "output_type": "stream",
     "text": [
      "https://item.kakaocdn.net/do/b5d3d6a7b67fbf5afdaffb79fffbf8b18f324a0b9c48f77dbce3a43bd11ce785\n",
      "https://item.kakaocdn.net/do/b5d3d6a7b67fbf5afdaffb79fffbf8b1f604e7b0e6900f9ac53a43965300eb9a\n",
      "https://item.kakaocdn.net/do/b5d3d6a7b67fbf5afdaffb79fffbf8b19f5287469802eca457586a25a096fd31\n",
      "https://item.kakaocdn.net/do/b5d3d6a7b67fbf5afdaffb79fffbf8b19f17e489affba0627eb1eb39695f93dd\n",
      "https://item.kakaocdn.net/do/b5d3d6a7b67fbf5afdaffb79fffbf8b115b3f4e3c2033bfd702a321ec6eda72c\n",
      "https://item.kakaocdn.net/do/b5d3d6a7b67fbf5afdaffb79fffbf8b14022de826f725e10df604bf1b9725cfd\n",
      "https://item.kakaocdn.net/do/c5c470298d527ef65eb52883f0f186c48f324a0b9c48f77dbce3a43bd11ce785\n",
      "https://item.kakaocdn.net/do/c5c470298d527ef65eb52883f0f186c4f604e7b0e6900f9ac53a43965300eb9a\n",
      "https://item.kakaocdn.net/do/c5c470298d527ef65eb52883f0f186c49f5287469802eca457586a25a096fd31\n",
      "https://item.kakaocdn.net/do/c5c470298d527ef65eb52883f0f186c49f17e489affba0627eb1eb39695f93dd\n",
      "https://item.kakaocdn.net/do/c5c470298d527ef65eb52883f0f186c415b3f4e3c2033bfd702a321ec6eda72c\n",
      "https://item.kakaocdn.net/do/c5c470298d527ef65eb52883f0f186c44022de826f725e10df604bf1b9725cfd\n",
      "https://item.kakaocdn.net/do/8aa7a27c9ddfbe4e4b47ca1b4043d1d68f324a0b9c48f77dbce3a43bd11ce785\n",
      "https://item.kakaocdn.net/do/8aa7a27c9ddfbe4e4b47ca1b4043d1d6f604e7b0e6900f9ac53a43965300eb9a\n",
      "https://item.kakaocdn.net/do/8aa7a27c9ddfbe4e4b47ca1b4043d1d69f5287469802eca457586a25a096fd31\n",
      "https://item.kakaocdn.net/do/8aa7a27c9ddfbe4e4b47ca1b4043d1d69f17e489affba0627eb1eb39695f93dd\n",
      "https://item.kakaocdn.net/do/8aa7a27c9ddfbe4e4b47ca1b4043d1d615b3f4e3c2033bfd702a321ec6eda72c\n",
      "https://item.kakaocdn.net/do/8aa7a27c9ddfbe4e4b47ca1b4043d1d64022de826f725e10df604bf1b9725cfd\n",
      "https://item.kakaocdn.net/do/117a94d434f37a07e679fa2ad60eb64e8f324a0b9c48f77dbce3a43bd11ce785\n",
      "https://item.kakaocdn.net/do/117a94d434f37a07e679fa2ad60eb64ef604e7b0e6900f9ac53a43965300eb9a\n",
      "https://item.kakaocdn.net/do/117a94d434f37a07e679fa2ad60eb64e9f5287469802eca457586a25a096fd31\n",
      "https://item.kakaocdn.net/do/117a94d434f37a07e679fa2ad60eb64e9f17e489affba0627eb1eb39695f93dd\n",
      "https://item.kakaocdn.net/do/117a94d434f37a07e679fa2ad60eb64e15b3f4e3c2033bfd702a321ec6eda72c\n",
      "https://item.kakaocdn.net/do/117a94d434f37a07e679fa2ad60eb64e4022de826f725e10df604bf1b9725cfd\n",
      "https://item.kakaocdn.net/do/42827d1e8227c8b4251acffb9e899e4e8f324a0b9c48f77dbce3a43bd11ce785\n",
      "https://item.kakaocdn.net/do/42827d1e8227c8b4251acffb9e899e4ef604e7b0e6900f9ac53a43965300eb9a\n",
      "https://item.kakaocdn.net/do/42827d1e8227c8b4251acffb9e899e4e9f5287469802eca457586a25a096fd31\n",
      "https://item.kakaocdn.net/do/42827d1e8227c8b4251acffb9e899e4e9f17e489affba0627eb1eb39695f93dd\n",
      "https://item.kakaocdn.net/do/42827d1e8227c8b4251acffb9e899e4e15b3f4e3c2033bfd702a321ec6eda72c\n",
      "https://item.kakaocdn.net/do/42827d1e8227c8b4251acffb9e899e4e4022de826f725e10df604bf1b9725cfd\n",
      "https://item.kakaocdn.net/do/91481c46c6ee38c33e20deba29e1f73f8f324a0b9c48f77dbce3a43bd11ce785\n",
      "https://item.kakaocdn.net/do/91481c46c6ee38c33e20deba29e1f73ff604e7b0e6900f9ac53a43965300eb9a\n",
      "https://item.kakaocdn.net/do/91481c46c6ee38c33e20deba29e1f73f9f5287469802eca457586a25a096fd31\n",
      "https://item.kakaocdn.net/do/91481c46c6ee38c33e20deba29e1f73f9f17e489affba0627eb1eb39695f93dd\n",
      "https://item.kakaocdn.net/do/91481c46c6ee38c33e20deba29e1f73f15b3f4e3c2033bfd702a321ec6eda72c\n",
      "https://item.kakaocdn.net/do/91481c46c6ee38c33e20deba29e1f73f4022de826f725e10df604bf1b9725cfd\n",
      "https://item.kakaocdn.net/do/33548ba84901a6bf370f328872516a428f324a0b9c48f77dbce3a43bd11ce785\n",
      "https://item.kakaocdn.net/do/33548ba84901a6bf370f328872516a42f604e7b0e6900f9ac53a43965300eb9a\n",
      "https://item.kakaocdn.net/do/33548ba84901a6bf370f328872516a429f5287469802eca457586a25a096fd31\n",
      "https://item.kakaocdn.net/do/33548ba84901a6bf370f328872516a429f17e489affba0627eb1eb39695f93dd\n",
      "https://item.kakaocdn.net/do/33548ba84901a6bf370f328872516a4215b3f4e3c2033bfd702a321ec6eda72c\n",
      "https://item.kakaocdn.net/do/33548ba84901a6bf370f328872516a424022de826f725e10df604bf1b9725cfd\n",
      "https://item.kakaocdn.net/do/ead75429bda8fcb25c530eb90dd3ae3f8f324a0b9c48f77dbce3a43bd11ce785\n",
      "https://item.kakaocdn.net/do/ead75429bda8fcb25c530eb90dd3ae3ff604e7b0e6900f9ac53a43965300eb9a\n",
      "https://item.kakaocdn.net/do/ead75429bda8fcb25c530eb90dd3ae3f9f5287469802eca457586a25a096fd31\n",
      "https://item.kakaocdn.net/do/ead75429bda8fcb25c530eb90dd3ae3f9f17e489affba0627eb1eb39695f93dd\n",
      "https://item.kakaocdn.net/do/ead75429bda8fcb25c530eb90dd3ae3f15b3f4e3c2033bfd702a321ec6eda72c\n",
      "https://item.kakaocdn.net/do/ead75429bda8fcb25c530eb90dd3ae3f4022de826f725e10df604bf1b9725cfd\n"
     ]
    }
   ],
   "source": [
    "search_list = ['춘식이'] # <--- 이모티콘 이름 여기다가 넣으세요. 여러개 넣어도 돼요.\n",
    "eng_list = ['chunsik']\n",
    "\n",
    "for i, eng in zip(search_list, eng_list):\n",
    "\n",
    "    driver.get(f\"https://e.kakao.com/search?q={i}\")    \n",
    "    html = driver.page_source\n",
    "    soup = BeautifulSoup(html, 'html.parser')\n",
    "    candy = soup.select(\"span.txt_tit\")\n",
    "    a = 1 # 이모티콘 번호 메기기용\n",
    "    \n",
    "    if len(candy) >= 20:\n",
    "        # vac = driver.find_element_by_tag_name('body')\n",
    "        vac = driver.find_element(By.TAG_NAME, 'body')\n",
    "        vac.send_keys(Keys.PAGE_DOWN)\n",
    "        time.sleep(0.5)\n",
    "        vac.send_keys(Keys.PAGE_DOWN)\n",
    "        time.sleep(0.5)\n",
    "        vac.send_keys(Keys.PAGE_DOWN)\n",
    "        time.sleep(0.5)\n",
    "        vac.send_keys(Keys.PAGE_DOWN)\n",
    "        time.sleep(0.5)\n",
    "        vac.send_keys(Keys.PAGE_DOWN)\n",
    "        time.sleep(0.5)\n",
    "        vac.send_keys(Keys.PAGE_DOWN)\n",
    "        time.sleep(0.5)\n",
    "        vac.send_keys(Keys.PAGE_DOWN)\n",
    "        time.sleep(0.5)\n",
    "        vac.send_keys(Keys.PAGE_DOWN)\n",
    "        time.sleep(0.5)\n",
    "        html = driver.page_source\n",
    "        soup = BeautifulSoup(html, 'html.parser')\n",
    "        candy = soup.select(\"span.txt_tit\")\n",
    "        \n",
    "        vac.send_keys(Keys.PAGE_UP)\n",
    "        vac.send_keys(Keys.PAGE_UP)\n",
    "        vac.send_keys(Keys.PAGE_UP)\n",
    "        vac.send_keys(Keys.PAGE_UP)\n",
    "        vac.send_keys(Keys.PAGE_UP)\n",
    "        vac.send_keys(Keys.PAGE_UP)\n",
    "        vac.send_keys(Keys.PAGE_UP)\n",
    "        vac.send_keys(Keys.PAGE_UP)\n",
    "\n",
    "    for j in range(1, len(candy)+1):\n",
    "        \n",
    "        if j >= 20 and j <= 39:\n",
    "            vac = driver.find_element(By.TAG_NAME, 'body')\n",
    "            vac.send_keys(Keys.PAGE_DOWN)\n",
    "            time.sleep(0.5)\n",
    "            vac.send_keys(Keys.PAGE_DOWN)\n",
    "            time.sleep(0.5)\n",
    "            vac.send_keys(Keys.PAGE_DOWN)\n",
    "            time.sleep(0.5)\n",
    "            \n",
    "        elif j >= 40:\n",
    "            vac = driver.find_element(By.TAG_NAME, 'body')\n",
    "            vac.send_keys(Keys.PAGE_DOWN)\n",
    "            time.sleep(0.5)\n",
    "            vac.send_keys(Keys.PAGE_DOWN)\n",
    "            time.sleep(0.5)\n",
    "            vac.send_keys(Keys.PAGE_DOWN)\n",
    "            time.sleep(0.5)\n",
    "            vac.send_keys(Keys.PAGE_DOWN)\n",
    "            time.sleep(0.5)\n",
    "            vac.send_keys(Keys.PAGE_DOWN)\n",
    "            time.sleep(0.5)\n",
    "            vac.send_keys(Keys.PAGE_DOWN)\n",
    "            time.sleep(0.5)\n",
    "            \n",
    "\n",
    "        # xpath 이모티콘 이름으로 바꾸고, 클릭하기\n",
    "        # selenium 4.3.0 버전 이상에서는 아래 코드 입력\n",
    "        click_att = driver.find_element(\"xpath\", f'//*[@id=\"kakaoContent\"]/div[2]/ol/li[{j}]/div/a/div/strong/span[2]')\n",
    "        \n",
    "        # selenuim 4.3.0 버전 이하일 때는 아래 코드로 실행\n",
    "        # click_att = driver.find_element_by_xpath(f'//*[@id=\"kakaoContent\"]/div[2]/ol/li[{j}]/div/a/div/strong/span[2]')\n",
    "        click_att.click()\n",
    "        \n",
    "        driver.get(driver.current_url) # 클릭한 url 따오기\n",
    "        html2 = driver.page_source\n",
    "        soup2 = BeautifulSoup(html2, 'html.parser') # 페이지 소스 bs로 리스트화\n",
    "        #vac = driver.find_element_by_tag_name('body') <-- 빈 공간을 타겟으로 지정할 때(여기서는 필요 없음)\n",
    "        \n",
    "        emo_list = soup2.select(\"img.img_emoticon\") # 이미지 소스만 리스트화\n",
    "        b = 1 # 이모티콘 번호 메기기용\n",
    "        \n",
    "        if not os.path.isdir('./WebDriver'):\n",
    "            os.mkdir('./WebDriver/')\n",
    "        \n",
    "        for k in emo_list:\n",
    "            outpath = f'./WebDriver/{eng}/'\n",
    "            src = k[\"src\"]\n",
    "            if src != \"https://t1.kakaocdn.net/estoreweb/images/thumb_empty.png\":\n",
    "                print(src)\n",
    "                if not os.path.isdir(outpath):\n",
    "                    os.mkdir(outpath)\n",
    "                urllib.request.urlretrieve(src, outpath + str(eng) + '_' + str(a) + '_' + str(b) + \".png\")\n",
    "                \n",
    "                imglist = glob.glob(outpath + \"*.png\")\n",
    "                imglist = natsort.natsorted(imglist,reverse=False)\n",
    "                for l in imglist:\n",
    "                    if not os.path.isdir(outpath + \"jpg\"):\n",
    "                        os.mkdir(outpath + \"jpg\")\n",
    "                    img = Image.open(l)\n",
    "                    if img.mode == 'RGBA':\n",
    "                        background = Image.new('RGB', img.size, (255, 255, 255))\n",
    "                        background.paste(img, mask = img.split()[3])\n",
    "                        background.resize((512, 512)).save(outpath + \"jpg/\" + str(eng) + \"_\" + str(a) + '_' + str(b) + \".jpg\")\n",
    "                  \n",
    "            elif k[\"src\"] == \"https://t1.kakaocdn.net/estoreweb/images/thumb_empty.png\":\n",
    "                pass\n",
    "                #print(src)\n",
    "            b = b + 1\n",
    "                 \n",
    "        driver.get(f\"https://e.kakao.com/search?q={i}\") # 처음 화면으로 돌아가서 검색 반복\n",
    "        \n",
    "        a = a+1 # 끝"
   ]
  },
  {
   "cell_type": "code",
   "execution_count": null,
   "id": "3aa78aac",
   "metadata": {
    "pycharm": {
     "name": "#%%\n"
    }
   },
   "outputs": [],
   "source": []
  }
 ],
 "metadata": {
  "kernelspec": {
   "display_name": "Python 3 (ipykernel)",
   "language": "python",
   "name": "python3"
  },
  "language_info": {
   "codemirror_mode": {
    "name": "ipython",
    "version": 3
   },
   "file_extension": ".py",
   "mimetype": "text/x-python",
   "name": "python",
   "nbconvert_exporter": "python",
   "pygments_lexer": "ipython3",
   "version": "3.8.13"
  }
 },
 "nbformat": 4,
 "nbformat_minor": 5
}
