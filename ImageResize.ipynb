{
 "cells": [
  {
   "cell_type": "code",
   "execution_count": 5,
   "id": "d9122292",
   "metadata": {},
   "outputs": [],
   "source": [
    "import os.path\n",
    "import glob\n",
    "import natsort\n",
    "\n",
    "outpath = 'C:/Users/admin/Desktop/cartoon/'\n",
    "imglist = glob.glob(outpath + \"*.jpg\")\n",
    "imglist = natsort.natsorted(imglist,reverse=False)"
   ]
  },
  {
   "cell_type": "code",
   "execution_count": 8,
   "id": "95f11716",
   "metadata": {},
   "outputs": [],
   "source": [
    "from PIL import Image\n",
    "a = 1\n",
    "\n",
    "for l in imglist:\n",
    "    if not os.path.isdir(outpath + \"jpg\"):\n",
    "        os.mkdir(outpath + \"jpg\")\n",
    "    img = Image.open(l)\n",
    "    img.resize((256, 256)).save(outpath + \"jpg/\" + str(a) + \".jpg\")\n",
    "    a = a+1"
   ]
  },
  {
   "cell_type": "code",
   "execution_count": null,
   "id": "9adc37ce",
   "metadata": {},
   "outputs": [],
   "source": []
  }
 ],
 "metadata": {
  "kernelspec": {
   "display_name": "Python 3 (ipykernel)",
   "language": "python",
   "name": "python3"
  },
  "language_info": {
   "codemirror_mode": {
    "name": "ipython",
    "version": 3
   },
   "file_extension": ".py",
   "mimetype": "text/x-python",
   "name": "python",
   "nbconvert_exporter": "python",
   "pygments_lexer": "ipython3",
   "version": "3.9.11"
  }
 },
 "nbformat": 4,
 "nbformat_minor": 5
}
