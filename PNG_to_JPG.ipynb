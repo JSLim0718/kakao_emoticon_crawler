{
 "cells": [
  {
   "cell_type": "code",
   "execution_count": null,
   "id": "8510e3b5",
   "metadata": {},
   "outputs": [],
   "source": [
    "img = Image.open('./cateq512.jpg')\n",
    "if img.mode == 'RGBA' or 'RGB':\n",
    "    background = Image.new('RGB', img.size, (255, 255, 255))\n",
    "    background.paste(img, mask = img.split()[3])\n",
    "    background.resize((256, 256)).save(outpath + \"jpg/\" + str(eng) + \"_\" + str(a) + '_' + str(b) + \".jpg\")"
   ]
  }
 ],
 "metadata": {
  "kernelspec": {
   "display_name": "Python 3 (ipykernel)",
   "language": "python",
   "name": "python3"
  },
  "language_info": {
   "codemirror_mode": {
    "name": "ipython",
    "version": 3
   },
   "file_extension": ".py",
   "mimetype": "text/x-python",
   "name": "python",
   "nbconvert_exporter": "python",
   "pygments_lexer": "ipython3",
   "version": "3.9.11"
  }
 },
 "nbformat": 4,
 "nbformat_minor": 5
}
